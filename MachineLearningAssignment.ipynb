{
  "nbformat": 4,
  "nbformat_minor": 0,
  "metadata": {
    "colab": {
      "provenance": []
    },
    "kernelspec": {
      "name": "python3",
      "display_name": "Python 3"
    },
    "language_info": {
      "name": "python"
    }
  },
  "cells": [
    {
      "cell_type": "code",
      "execution_count": 1,
      "metadata": {
        "colab": {
          "base_uri": "https://localhost:8080/"
        },
        "id": "5VTib_VSok0X",
        "outputId": "605537be-0a1e-4654-e347-acad99d4cf65"
      },
      "outputs": [
        {
          "output_type": "stream",
          "name": "stdout",
          "text": [
            "2024 is a leap year.\n",
            "1900 is not a leap year.\n",
            "2000 is a leap year.\n"
          ]
        }
      ],
      "source": [
        "def is_leap(year):\n",
        "  \"\"\"\n",
        "  Checks if a given year is a leap year.\n",
        "\n",
        "  Args:\n",
        "    year: The year to check (integer).\n",
        "\n",
        "  Returns:\n",
        "    True if the year is a leap year, False otherwise.\n",
        "  \"\"\"\n",
        "  if (year % 4 == 0 and year % 100 != 0) or (year % 400 == 0):\n",
        "    return True\n",
        "  else:\n",
        "    return False\n",
        "\n",
        "# Example usage:\n",
        "year_to_check = 2024\n",
        "if is_leap(year_to_check):\n",
        "  print(f\"{year_to_check} is a leap year.\")\n",
        "else:\n",
        "  print(f\"{year_to_check} is not a leap year.\")\n",
        "\n",
        "year_to_check = 1900\n",
        "if is_leap(year_to_check):\n",
        "  print(f\"{year_to_check} is a leap year.\")\n",
        "else:\n",
        "  print(f\"{year_to_check} is not a leap year.\")\n",
        "\n",
        "year_to_check = 2000\n",
        "if is_leap(year_to_check):\n",
        "  print(f\"{year_to_check} is a leap year.\")\n",
        "else:\n",
        "  print(f\"{year_to_check} is not a leap year.\")"
      ]
    },
    {
      "cell_type": "markdown",
      "metadata": {
        "id": "e5758b93"
      },
      "source": [
        "Here's how to reverse a string using a `for` loop:"
      ]
    },
    {
      "cell_type": "code",
      "metadata": {
        "colab": {
          "base_uri": "https://localhost:8080/"
        },
        "id": "14479ebb",
        "outputId": "4fef801a-9c82-4373-c71b-72ad00fb1aec"
      },
      "source": [
        "input_string = \"Hello\"\n",
        "reversed_string_for = \"\"\n",
        "\n",
        "for char in input_string:\n",
        "  reversed_string_for = char + reversed_string_for\n",
        "\n",
        "print(f\"Original string: {input_string}\")\n",
        "print(f\"Reversed string (for loop): {reversed_string_for}\")"
      ],
      "execution_count": 2,
      "outputs": [
        {
          "output_type": "stream",
          "name": "stdout",
          "text": [
            "Original string: Hello\n",
            "Reversed string (for loop): olleH\n"
          ]
        }
      ]
    },
    {
      "cell_type": "markdown",
      "metadata": {
        "id": "e8cd59c9"
      },
      "source": [
        "And here's how to reverse a string using a `while` loop:"
      ]
    },
    {
      "cell_type": "code",
      "metadata": {
        "colab": {
          "base_uri": "https://localhost:8080/"
        },
        "id": "86f566e5",
        "outputId": "dd20eca3-3b08-4898-ed99-7d6f6bfc3629"
      },
      "source": [
        "input_string = \"World\"\n",
        "reversed_string_while = \"\"\n",
        "index = len(input_string) - 1\n",
        "\n",
        "while index >= 0:\n",
        "  reversed_string_while += input_string[index]\n",
        "  index -= 1\n",
        "\n",
        "print(f\"Original string: {input_string}\")\n",
        "print(f\"Reversed string (while loop): {reversed_string_while}\")"
      ],
      "execution_count": 3,
      "outputs": [
        {
          "output_type": "stream",
          "name": "stdout",
          "text": [
            "Original string: World\n",
            "Reversed string (while loop): dlroW\n"
          ]
        }
      ]
    },
    {
      "cell_type": "code",
      "source": [],
      "metadata": {
        "id": "rZ7Vw4goo-fQ"
      },
      "execution_count": null,
      "outputs": []
    },
    {
      "cell_type": "code",
      "metadata": {
        "colab": {
          "base_uri": "https://localhost:8080/"
        },
        "id": "7e7d4393",
        "outputId": "394290f2-88c8-4dc3-de54-b13c63d747d6"
      },
      "source": [
        "def print_triangle(rows):\n",
        "  \"\"\"\n",
        "  Prints a right-aligned triangle pattern using nested loops.\n",
        "\n",
        "  Args:\n",
        "    rows: The number of rows in the triangle.\n",
        "  \"\"\"\n",
        "  for i in range(1, rows + 1):\n",
        "    for j in range(i):\n",
        "      print(\"*\", end=\"\")\n",
        "    print()\n",
        "\n",
        "# Example usage:\n",
        "print_triangle(5)"
      ],
      "execution_count": 4,
      "outputs": [
        {
          "output_type": "stream",
          "name": "stdout",
          "text": [
            "*\n",
            "**\n",
            "***\n",
            "****\n",
            "*****\n"
          ]
        }
      ]
    },
    {
      "cell_type": "code",
      "metadata": {
        "colab": {
          "base_uri": "https://localhost:8080/"
        },
        "id": "28f40621",
        "outputId": "4b1fcfb8-0ecd-4714-ff71-2c1174ee57a1"
      },
      "source": [
        "def is_prime(num):\n",
        "  \"\"\"\n",
        "  Checks if a given number is prime using a loop.\n",
        "\n",
        "  Args:\n",
        "    num: The number to check (integer).\n",
        "\n",
        "  Returns:\n",
        "    True if the number is prime, False otherwise.\n",
        "  \"\"\"\n",
        "  if num <= 1:\n",
        "    return False  # Numbers less than or equal to 1 are not prime\n",
        "  for i in range(2, int(num**0.5) + 1):\n",
        "    if num % i == 0:\n",
        "      return False  # Found a divisor, so not prime\n",
        "  return True  # No divisors found, so prime\n",
        "\n",
        "# Example usage:\n",
        "number_to_check = 17\n",
        "if is_prime(number_to_check):\n",
        "  print(f\"{number_to_check} is a prime number.\")\n",
        "else:\n",
        "  print(f\"{number_to_check} is not a prime number.\")\n",
        "\n",
        "number_to_check = 12\n",
        "if is_prime(number_to_check):\n",
        "  print(f\"{number_to_check} is a prime number.\")\n",
        "else:\n",
        "  print(f\"{number_to_check} is not a prime number.\")"
      ],
      "execution_count": 5,
      "outputs": [
        {
          "output_type": "stream",
          "name": "stdout",
          "text": [
            "17 is a prime number.\n",
            "12 is not a prime number.\n"
          ]
        }
      ]
    },
    {
      "cell_type": "code",
      "metadata": {
        "colab": {
          "base_uri": "https://localhost:8080/"
        },
        "id": "8d8430bb",
        "outputId": "a0d8a1f1-8108-4dab-d072-2f09d2b8490b"
      },
      "source": [
        "def check_vowel_consonant(char):\n",
        "  \"\"\"\n",
        "  Checks if a given character is a vowel or a consonant.\n",
        "\n",
        "  Args:\n",
        "    char: The character to check (string).\n",
        "\n",
        "  Returns:\n",
        "    A string indicating if the character is a vowel, consonant, or not a letter.\n",
        "  \"\"\"\n",
        "  char = char.lower()  # Convert to lowercase for easier comparison\n",
        "  if len(char) != 1:\n",
        "    return \"Please enter a single character.\"\n",
        "  elif char.isalpha():  # Check if it's an alphabet character\n",
        "    vowels = \"aeiou\"\n",
        "    if char in vowels:\n",
        "      return f\"{char} is a vowel.\"\n",
        "    else:\n",
        "      return f\"{char} is a consonant.\"\n",
        "  else:\n",
        "    return f\"{char} is not an alphabet character.\"\n",
        "\n",
        "# Example usage:\n",
        "print(check_vowel_consonant('a'))\n",
        "print(check_vowel_consonant('B'))\n",
        "print(check_vowel_consonant('7'))\n",
        "print(check_vowel_consonant('ae'))"
      ],
      "execution_count": 6,
      "outputs": [
        {
          "output_type": "stream",
          "name": "stdout",
          "text": [
            "a is a vowel.\n",
            "b is a consonant.\n",
            "7 is not an alphabet character.\n",
            "Please enter a single character.\n"
          ]
        }
      ]
    },
    {
      "cell_type": "markdown",
      "metadata": {
        "id": "d257c947"
      },
      "source": [
        "Here is a recursive function to calculate the factorial of a number:"
      ]
    },
    {
      "cell_type": "code",
      "metadata": {
        "colab": {
          "base_uri": "https://localhost:8080/"
        },
        "id": "ab4876b0",
        "outputId": "e85f73c7-5a53-44a1-cdd2-d2b03bde5b4b"
      },
      "source": [
        "def recursive_factorial(n):\n",
        "  \"\"\"\n",
        "  Calculates the factorial of a non-negative integer using recursion.\n",
        "\n",
        "  Args:\n",
        "    n: The non-negative integer for which to calculate the factorial.\n",
        "\n",
        "  Returns:\n",
        "    The factorial of n.\n",
        "    Returns None for negative input as factorial is not defined.\n",
        "  \"\"\"\n",
        "  if n < 0:\n",
        "    return None # Factorial is not defined for negative numbers\n",
        "  elif n == 0:\n",
        "    return 1 # Base case: factorial of 0 is 1\n",
        "  else:\n",
        "    return n * recursive_factorial(n-1) # Recursive step\n",
        "\n",
        "# Example usage:\n",
        "number = 5\n",
        "result = recursive_factorial(number)\n",
        "if result is not None:\n",
        "  print(f\"The factorial of {number} is {result}\")\n",
        "else:\n",
        "  print(f\"Factorial is not defined for negative numbers.\")\n",
        "\n",
        "number = -1\n",
        "result = recursive_factorial(number)\n",
        "if result is not None:\n",
        "  print(f\"The factorial of {number} is {result}\")\n",
        "else:\n",
        "  print(f\"Factorial is not defined for negative numbers.\")"
      ],
      "execution_count": 7,
      "outputs": [
        {
          "output_type": "stream",
          "name": "stdout",
          "text": [
            "The factorial of 5 is 120\n",
            "Factorial is not defined for negative numbers.\n"
          ]
        }
      ]
    },
    {
      "cell_type": "markdown",
      "metadata": {
        "id": "34e5829e"
      },
      "source": [
        "Here is a recursive function to generate the Fibonacci sequence up to a certain term:"
      ]
    },
    {
      "cell_type": "code",
      "metadata": {
        "colab": {
          "base_uri": "https://localhost:8080/"
        },
        "id": "5318703d",
        "outputId": "8ae9aaf5-4a1f-41b4-b187-58a103468cb8"
      },
      "source": [
        "def recursive_fibonacci(n):\n",
        "  \"\"\"\n",
        "  Generates the nth term of the Fibonacci sequence using recursion.\n",
        "\n",
        "  Args:\n",
        "    n: The term number in the Fibonacci sequence (non-negative integer).\n",
        "\n",
        "  Returns:\n",
        "    The nth term of the Fibonacci sequence.\n",
        "    Returns None for negative input.\n",
        "  \"\"\"\n",
        "  if n < 0:\n",
        "    return None # Fibonacci is not defined for negative numbers\n",
        "  elif n <= 1:\n",
        "    return n # Base cases: Fibonacci of 0 is 0, Fibonacci of 1 is 1\n",
        "  else:\n",
        "    return recursive_fibonacci(n-1) + recursive_fibonacci(n-2) # Recursive step\n",
        "\n",
        "# Example usage:\n",
        "n_terms = 10\n",
        "print(f\"Fibonacci sequence up to {n_terms} terms:\")\n",
        "for i in range(n_terms):\n",
        "  print(recursive_fibonacci(i))\n",
        "\n",
        "n_terms = -2\n",
        "print(f\"Fibonacci sequence up to {n_terms} terms:\")\n",
        "for i in range(n_terms):\n",
        "  print(recursive_fibonacci(i))"
      ],
      "execution_count": 8,
      "outputs": [
        {
          "output_type": "stream",
          "name": "stdout",
          "text": [
            "Fibonacci sequence up to 10 terms:\n",
            "0\n",
            "1\n",
            "1\n",
            "2\n",
            "3\n",
            "5\n",
            "8\n",
            "13\n",
            "21\n",
            "34\n",
            "Fibonacci sequence up to -2 terms:\n"
          ]
        }
      ]
    },
    {
      "cell_type": "code",
      "metadata": {
        "colab": {
          "base_uri": "https://localhost:8080/"
        },
        "id": "6ed86dcf",
        "outputId": "64240fdb-9153-48ea-d1bb-492d0c1c39bb"
      },
      "source": [
        "def is_palindrome(s):\n",
        "  \"\"\"\n",
        "  Checks if a string is a palindrome.\n",
        "\n",
        "  Args:\n",
        "    s: The input string.\n",
        "\n",
        "  Returns:\n",
        "    True if the string is a palindrome, False otherwise.\n",
        "  \"\"\"\n",
        "  # Remove spaces and convert to lowercase for a case-insensitive check\n",
        "  s = s.replace(\" \", \"\").lower()\n",
        "  return s == s[::-1]\n",
        "\n",
        "# Example usage:\n",
        "print(is_palindrome(\"racecar\"))\n",
        "print(is_palindrome(\"hello\"))\n",
        "print(is_palindrome(\"A man a plan a canal Panama\"))"
      ],
      "execution_count": 9,
      "outputs": [
        {
          "output_type": "stream",
          "name": "stdout",
          "text": [
            "True\n",
            "False\n",
            "True\n"
          ]
        }
      ]
    },
    {
      "cell_type": "code",
      "metadata": {
        "colab": {
          "base_uri": "https://localhost:8080/"
        },
        "id": "e3558091",
        "outputId": "5add9ac5-9f3d-462b-887a-f983bee2e58c"
      },
      "source": [
        "def count_words(sentence):\n",
        "  \"\"\"\n",
        "  Counts the number of words in a sentence.\n",
        "\n",
        "  Args:\n",
        "    sentence: The input sentence (string).\n",
        "\n",
        "  Returns:\n",
        "    The number of words in the sentence (integer).\n",
        "  \"\"\"\n",
        "  words = sentence.split()  # Split the sentence into a list of words\n",
        "  return len(words)  # Return the number of elements in the list\n",
        "\n",
        "# Example usage:\n",
        "sentence1 = \"This is an example sentence.\"\n",
        "print(f\"The sentence '{sentence1}' has {count_words(sentence1)} words.\")\n",
        "\n",
        "sentence2 = \"Another sentence with more words.\"\n",
        "print(f\"The sentence '{sentence2}' has {count_words(sentence2)} words.\")\n",
        "\n",
        "sentence3 = \" Single word \"\n",
        "print(f\"The sentence '{sentence3}' has {count_words(sentence3)} words.\")\n",
        "\n",
        "sentence4 = \"\"\n",
        "print(f\"The sentence '{sentence4}' has {count_words(sentence4)} words.\")"
      ],
      "execution_count": 10,
      "outputs": [
        {
          "output_type": "stream",
          "name": "stdout",
          "text": [
            "The sentence 'This is an example sentence.' has 5 words.\n",
            "The sentence 'Another sentence with more words.' has 5 words.\n",
            "The sentence ' Single word ' has 2 words.\n",
            "The sentence '' has 0 words.\n"
          ]
        }
      ]
    },
    {
      "cell_type": "code",
      "metadata": {
        "colab": {
          "base_uri": "https://localhost:8080/"
        },
        "id": "b3c5cd28",
        "outputId": "f34b128e-ba53-46fb-f0d3-2aee4e04a787"
      },
      "source": [
        "def is_divisible_by_3_and_5(number):\n",
        "  \"\"\"\n",
        "  Checks if a number is divisible by both 3 and 5.\n",
        "\n",
        "  Args:\n",
        "    number: The number to check (integer).\n",
        "\n",
        "  Returns:\n",
        "    True if the number is divisible by both 3 and 5, False otherwise.\n",
        "  \"\"\"\n",
        "  if number % 3 == 0 and number % 5 == 0:\n",
        "    return True\n",
        "  else:\n",
        "    return False\n",
        "\n",
        "# Example usage:\n",
        "num1 = 15\n",
        "if is_divisible_by_3_and_5(num1):\n",
        "  print(f\"{num1} is divisible by both 3 and 5.\")\n",
        "else:\n",
        "  print(f\"{num1} is not divisible by both 3 and 5.\")\n",
        "\n",
        "num2 = 10\n",
        "if is_divisible_by_3_and_5(num2):\n",
        "  print(f\"{num2} is divisible by both 3 and 5.\")\n",
        "else:\n",
        "  print(f\"{num2} is not divisible by both 3 and 5.\")\n",
        "\n",
        "num3 = 9\n",
        "if is_divisible_by_3_and_5(num3):\n",
        "  print(f\"{num3} is divisible by both 3 and 5.\")\n",
        "else:\n",
        "  print(f\"{num3} is not divisible by both 3 and 5.\")"
      ],
      "execution_count": 11,
      "outputs": [
        {
          "output_type": "stream",
          "name": "stdout",
          "text": [
            "15 is divisible by both 3 and 5.\n",
            "10 is not divisible by both 3 and 5.\n",
            "9 is not divisible by both 3 and 5.\n"
          ]
        }
      ]
    },
    {
      "cell_type": "code",
      "metadata": {
        "colab": {
          "base_uri": "https://localhost:8080/"
        },
        "id": "c65ee38c",
        "outputId": "636ce922-bf6f-45f5-ccea-1af6fa1bef9e"
      },
      "source": [
        "print(\"Even numbers from 1 to 100:\")\n",
        "for number in range(1, 101):\n",
        "  if number % 2 == 0:\n",
        "    print(number)"
      ],
      "execution_count": 12,
      "outputs": [
        {
          "output_type": "stream",
          "name": "stdout",
          "text": [
            "Even numbers from 1 to 100:\n",
            "2\n",
            "4\n",
            "6\n",
            "8\n",
            "10\n",
            "12\n",
            "14\n",
            "16\n",
            "18\n",
            "20\n",
            "22\n",
            "24\n",
            "26\n",
            "28\n",
            "30\n",
            "32\n",
            "34\n",
            "36\n",
            "38\n",
            "40\n",
            "42\n",
            "44\n",
            "46\n",
            "48\n",
            "50\n",
            "52\n",
            "54\n",
            "56\n",
            "58\n",
            "60\n",
            "62\n",
            "64\n",
            "66\n",
            "68\n",
            "70\n",
            "72\n",
            "74\n",
            "76\n",
            "78\n",
            "80\n",
            "82\n",
            "84\n",
            "86\n",
            "88\n",
            "90\n",
            "92\n",
            "94\n",
            "96\n",
            "98\n",
            "100\n"
          ]
        }
      ]
    }
  ]
}